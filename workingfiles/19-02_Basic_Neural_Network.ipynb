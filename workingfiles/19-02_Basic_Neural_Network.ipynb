{
 "cells": [
  {
   "cell_type": "code",
   "execution_count": 1,
   "id": "70f486bd",
   "metadata": {},
   "outputs": [
    {
     "name": "stdout",
     "output_type": "stream",
     "text": [
      "WARNING:tensorflow:Please fix your imports. Module tensorflow.python.training.tracking.base has been moved to tensorflow.python.trackable.base. The old module will be deleted in version 2.11.\n",
      "WARNING:tensorflow:Please fix your imports. Module tensorflow.python.training.checkpoint_management has been moved to tensorflow.python.checkpoint.checkpoint_management. The old module will be deleted in version 2.9.\n",
      "WARNING:tensorflow:Please fix your imports. Module tensorflow.python.training.tracking.resource has been moved to tensorflow.python.trackable.resource. The old module will be deleted in version 2.11.\n",
      "WARNING:tensorflow:Please fix your imports. Module tensorflow.python.training.tracking.util has been moved to tensorflow.python.checkpoint.checkpoint. The old module will be deleted in version 2.11.\n",
      "WARNING:tensorflow:Please fix your imports. Module tensorflow.python.training.tracking.base_delegate has been moved to tensorflow.python.trackable.base_delegate. The old module will be deleted in version 2.11.\n",
      "WARNING:tensorflow:Please fix your imports. Module tensorflow.python.training.tracking.graph_view has been moved to tensorflow.python.checkpoint.graph_view. The old module will be deleted in version 2.11.\n",
      "WARNING:tensorflow:Please fix your imports. Module tensorflow.python.training.tracking.python_state has been moved to tensorflow.python.trackable.python_state. The old module will be deleted in version 2.11.\n",
      "WARNING:tensorflow:Please fix your imports. Module tensorflow.python.training.saving.functional_saver has been moved to tensorflow.python.checkpoint.functional_saver. The old module will be deleted in version 2.11.\n",
      "WARNING:tensorflow:Please fix your imports. Module tensorflow.python.training.saving.checkpoint_options has been moved to tensorflow.python.checkpoint.checkpoint_options. The old module will be deleted in version 2.11.\n"
     ]
    }
   ],
   "source": [
    "# Import our dependencies\n",
    "import pandas as pd\n",
    "import matplotlib as plt\n",
    "from sklearn.datasets import make_blobs\n",
    "import sklearn as skl\n",
    "import tensorflow as tf"
   ]
  },
  {
   "cell_type": "code",
   "execution_count": 2,
   "id": "fa611c6f",
   "metadata": {},
   "outputs": [
    {
     "data": {
      "text/plain": [
       "<AxesSubplot:xlabel='Feature 1', ylabel='Feature 2'>"
      ]
     },
     "execution_count": 2,
     "metadata": {},
     "output_type": "execute_result"
    },
    {
     "data": {
      "image/png": "[encoded data removed]",
      "text/plain": [
       "<Figure size 432x288 with 2 Axes>"
      ]
     },
     "metadata": {
      "needs_background": "light"
     },
     "output_type": "display_data"
    }
   ],
   "source": [
    "# Generate dummy dataset\n",
    "X, y = make_blobs(n_samples=1000, centers=2, n_features=2, random_state=78)\n",
    "\n",
    "# Creating a DataFrame with the dummy data\n",
    "df = pd.DataFrame(X, columns=[\"Feature 1\", \"Feature 2\"])\n",
    "df[\"Target\"] = y\n",
    "\n",
    "# Plotting the dummy data\n",
    "df.plot.scatter(x=\"Feature 1\", y=\"Feature 2\", c=\"Target\", colormap=\"winter\")"
   ]
  },
  {
   "cell_type": "code",
   "execution_count": 3,
   "id": "8e4b1c15",
   "metadata": {},
   "outputs": [],
   "source": [
    "# Use sklearn to split dataset\n",
    "from sklearn.model_selection import train_test_split\n",
    "X_train, X_test, y_train, y_test = train_test_split(X, y, random_state=78)"
   ]
  },
  {
   "cell_type": "code",
   "execution_count": 4,
   "id": "7fd7431b",
   "metadata": {},
   "outputs": [],
   "source": [
    "# Create scaler instance\n",
    "X_scaler = skl.preprocessing.StandardScaler()\n",
    "\n",
    "# Fit the scaler\n",
    "X_scaler.fit(X_train)\n",
    "\n",
    "# Scale the data\n",
    "X_train_scaled = X_scaler.transform(X_train)\n",
    "X_test_scaled = X_scaler.transform(X_test)"
   ]
  },
  {
   "cell_type": "code",
   "execution_count": 5,
   "id": "1d403285",
   "metadata": {},
   "outputs": [],
   "source": [
    "# Create the Keras Sequential model\n",
    "nn_model = tf.keras.models.Sequential()"
   ]
  },
  {
   "cell_type": "code",
   "execution_count": 6,
   "id": "2f41e735",
   "metadata": {},
   "outputs": [],
   "source": [
    "# Add our first Dense layer, including the input layer\n",
    "nn_model.add(tf.keras.layers.Dense(units=1, activation=\"relu\", input_dim=2))"
   ]
  },
  {
   "cell_type": "code",
   "execution_count": 7,
   "id": "e3a850c4",
   "metadata": {},
   "outputs": [],
   "source": [
    "# Add the output layer that uses a probability activation function\n",
    "nn_model.add(tf.keras.layers.Dense(units=1, activation=\"sigmoid\"))"
   ]
  },
  {
   "cell_type": "code",
   "execution_count": 8,
   "id": "eea629a6",
   "metadata": {},
   "outputs": [
    {
     "name": "stdout",
     "output_type": "stream",
     "text": [
      "Model: \"sequential\"\n",
      "_________________________________________________________________\n",
      " Layer (type)                Output Shape              Param #   \n",
      "=================================================================\n",
      " dense (Dense)               (None, 1)                 3         \n",
      "                                                                 \n",
      " dense_1 (Dense)             (None, 1)                 2         \n",
      "                                                                 \n",
      "=================================================================\n",
      "Total params: 5\n",
      "Trainable params: 5\n",
      "Non-trainable params: 0\n",
      "_________________________________________________________________\n"
     ]
    }
   ],
   "source": [
    "# Check the structure of the Sequential model\n",
    "nn_model.summary()"
   ]
  },
  {
   "cell_type": "code",
   "execution_count": 9,
   "id": "d32d6c1b",
   "metadata": {},
   "outputs": [],
   "source": [
    "# Compile the Sequential model together and customize metrics\n",
    "nn_model.compile(loss=\"binary_crossentropy\", optimizer=\"adam\", metrics=[\"accuracy\"])"
   ]
  },
  {
   "cell_type": "code",
   "execution_count": 10,
   "id": "af30c4c0",
   "metadata": {},
   "outputs": [
    {
     "name": "stdout",
     "output_type": "stream",
     "text": [
      "Epoch 1/100\n",
      "24/24 [==============================] - 0s 964us/step - loss: 0.7295 - accuracy: 0.5067\n",
      "Epoch 2/100\n",
      "24/24 [==============================] - 0s 739us/step - loss: 0.7227 - accuracy: 0.4013\n",
      "Epoch 3/100\n",
      "24/24 [==============================] - 0s 652us/step - loss: 0.7173 - accuracy: 0.3987\n",
      "Epoch 4/100\n",
      "24/24 [==============================] - 0s 609us/step - loss: 0.7126 - accuracy: 0.4187\n",
      "Epoch 5/100\n",
      "24/24 [==============================] - 0s 609us/step - loss: 0.7087 - accuracy: 0.4373\n",
      "Epoch 6/100\n",
      "24/24 [==============================] - 0s 652us/step - loss: 0.7052 - accuracy: 0.4507\n",
      "Epoch 7/100\n",
      "24/24 [==============================] - 0s 652us/step - loss: 0.7023 - accuracy: 0.4707\n",
      "Epoch 8/100\n",
      "24/24 [==============================] - 0s 652us/step - loss: 0.6995 - accuracy: 0.4920\n",
      "Epoch 9/100\n",
      "24/24 [==============================] - 0s 652us/step - loss: 0.6970 - accuracy: 0.5120\n",
      "Epoch 10/100\n",
      "24/24 [==============================] - 0s 652us/step - loss: 0.6947 - accuracy: 0.5267\n",
      "Epoch 11/100\n",
      "24/24 [==============================] - 0s 652us/step - loss: 0.6925 - accuracy: 0.5427\n",
      "Epoch 12/100\n",
      "24/24 [==============================] - 0s 609us/step - loss: 0.6904 - accuracy: 0.5613\n",
      "Epoch 13/100\n",
      "24/24 [==============================] - 0s 652us/step - loss: 0.6883 - accuracy: 0.5707\n",
      "Epoch 14/100\n",
      "24/24 [==============================] - 0s 696us/step - loss: 0.6860 - accuracy: 0.5800\n",
      "Epoch 15/100\n",
      "24/24 [==============================] - 0s 652us/step - loss: 0.6835 - accuracy: 0.5907\n",
      "Epoch 16/100\n",
      "24/24 [==============================] - 0s 653us/step - loss: 0.6808 - accuracy: 0.6093\n",
      "Epoch 17/100\n",
      "24/24 [==============================] - 0s 652us/step - loss: 0.6777 - accuracy: 0.6187\n",
      "Epoch 18/100\n",
      "24/24 [==============================] - 0s 652us/step - loss: 0.6740 - accuracy: 0.6293\n",
      "Epoch 19/100\n",
      "24/24 [==============================] - 0s 652us/step - loss: 0.6696 - accuracy: 0.6427\n",
      "Epoch 20/100\n",
      "24/24 [==============================] - 0s 739us/step - loss: 0.6646 - accuracy: 0.6653\n",
      "Epoch 21/100\n",
      "24/24 [==============================] - 0s 665us/step - loss: 0.6587 - accuracy: 0.6813\n",
      "Epoch 22/100\n",
      "24/24 [==============================] - 0s 787us/step - loss: 0.6521 - accuracy: 0.6987\n",
      "Epoch 23/100\n",
      "24/24 [==============================] - 0s 609us/step - loss: 0.6446 - accuracy: 0.7133\n",
      "Epoch 24/100\n",
      "24/24 [==============================] - 0s 664us/step - loss: 0.6363 - accuracy: 0.7240\n",
      "Epoch 25/100\n",
      "24/24 [==============================] - 0s 652us/step - loss: 0.6272 - accuracy: 0.7387\n",
      "Epoch 26/100\n",
      "24/24 [==============================] - 0s 652us/step - loss: 0.6172 - accuracy: 0.7520\n",
      "Epoch 27/100\n",
      "24/24 [==============================] - 0s 652us/step - loss: 0.6068 - accuracy: 0.7627\n",
      "Epoch 28/100\n",
      "24/24 [==============================] - 0s 609us/step - loss: 0.5956 - accuracy: 0.7760\n",
      "Epoch 29/100\n",
      "24/24 [==============================] - 0s 632us/step - loss: 0.5838 - accuracy: 0.7880\n",
      "Epoch 30/100\n",
      "24/24 [==============================] - 0s 611us/step - loss: 0.5721 - accuracy: 0.8053\n",
      "Epoch 31/100\n",
      "24/24 [==============================] - 0s 639us/step - loss: 0.5596 - accuracy: 0.8147\n",
      "Epoch 32/100\n",
      "24/24 [==============================] - 0s 652us/step - loss: 0.5473 - accuracy: 0.8227\n",
      "Epoch 33/100\n",
      "24/24 [==============================] - 0s 666us/step - loss: 0.5350 - accuracy: 0.8333\n",
      "Epoch 34/100\n",
      "24/24 [==============================] - 0s 652us/step - loss: 0.5228 - accuracy: 0.8427\n",
      "Epoch 35/100\n",
      "24/24 [==============================] - 0s 609us/step - loss: 0.5108 - accuracy: 0.8480\n",
      "Epoch 36/100\n",
      "24/24 [==============================] - 0s 609us/step - loss: 0.4988 - accuracy: 0.8547\n",
      "Epoch 37/100\n",
      "24/24 [==============================] - 0s 652us/step - loss: 0.4869 - accuracy: 0.8600\n",
      "Epoch 38/100\n",
      "24/24 [==============================] - 0s 609us/step - loss: 0.4754 - accuracy: 0.8667\n",
      "Epoch 39/100\n",
      "24/24 [==============================] - 0s 600us/step - loss: 0.4641 - accuracy: 0.8707\n",
      "Epoch 40/100\n",
      "24/24 [==============================] - 0s 611us/step - loss: 0.4532 - accuracy: 0.8773\n",
      "Epoch 41/100\n",
      "24/24 [==============================] - 0s 654us/step - loss: 0.4426 - accuracy: 0.8813\n",
      "Epoch 42/100\n",
      "24/24 [==============================] - 0s 827us/step - loss: 0.4323 - accuracy: 0.8867\n",
      "Epoch 43/100\n",
      "24/24 [==============================] - 0s 609us/step - loss: 0.4222 - accuracy: 0.8880\n",
      "Epoch 44/100\n",
      "24/24 [==============================] - 0s 675us/step - loss: 0.4125 - accuracy: 0.8973\n",
      "Epoch 45/100\n",
      "24/24 [==============================] - 0s 608us/step - loss: 0.4031 - accuracy: 0.9053\n",
      "Epoch 46/100\n",
      "24/24 [==============================] - 0s 652us/step - loss: 0.3940 - accuracy: 0.9107\n",
      "Epoch 47/100\n",
      "24/24 [==============================] - 0s 652us/step - loss: 0.3851 - accuracy: 0.9147\n",
      "Epoch 48/100\n",
      "24/24 [==============================] - 0s 669us/step - loss: 0.3764 - accuracy: 0.9147\n",
      "Epoch 49/100\n",
      "24/24 [==============================] - 0s 681us/step - loss: 0.3680 - accuracy: 0.9173\n",
      "Epoch 50/100\n",
      "24/24 [==============================] - 0s 663us/step - loss: 0.3598 - accuracy: 0.9187\n",
      "Epoch 51/100\n",
      "24/24 [==============================] - 0s 739us/step - loss: 0.3517 - accuracy: 0.9227\n",
      "Epoch 52/100\n",
      "24/24 [==============================] - 0s 652us/step - loss: 0.3439 - accuracy: 0.9280\n",
      "Epoch 53/100\n",
      "24/24 [==============================] - 0s 609us/step - loss: 0.3363 - accuracy: 0.9280\n",
      "Epoch 54/100\n",
      "24/24 [==============================] - 0s 587us/step - loss: 0.3289 - accuracy: 0.9293\n",
      "Epoch 55/100\n",
      "24/24 [==============================] - 0s 652us/step - loss: 0.3216 - accuracy: 0.9307\n",
      "Epoch 56/100\n",
      "24/24 [==============================] - 0s 652us/step - loss: 0.3144 - accuracy: 0.9360\n",
      "Epoch 57/100\n",
      "24/24 [==============================] - 0s 652us/step - loss: 0.3075 - accuracy: 0.9413\n",
      "Epoch 58/100\n",
      "24/24 [==============================] - 0s 652us/step - loss: 0.3007 - accuracy: 0.9440\n",
      "Epoch 59/100\n",
      "24/24 [==============================] - 0s 652us/step - loss: 0.2941 - accuracy: 0.9453\n",
      "Epoch 60/100\n",
      "24/24 [==============================] - 0s 652us/step - loss: 0.2876 - accuracy: 0.9467\n",
      "Epoch 61/100\n",
      "24/24 [==============================] - 0s 619us/step - loss: 0.2812 - accuracy: 0.9467\n",
      "Epoch 62/100\n",
      "24/24 [==============================] - 0s 609us/step - loss: 0.2749 - accuracy: 0.9493\n",
      "Epoch 63/100\n",
      "24/24 [==============================] - 0s 609us/step - loss: 0.2689 - accuracy: 0.9507\n",
      "Epoch 64/100\n",
      "24/24 [==============================] - 0s 652us/step - loss: 0.2629 - accuracy: 0.9507\n",
      "Epoch 65/100\n",
      "24/24 [==============================] - 0s 609us/step - loss: 0.2570 - accuracy: 0.9520\n",
      "Epoch 66/100\n",
      "24/24 [==============================] - 0s 609us/step - loss: 0.2512 - accuracy: 0.9533\n",
      "Epoch 67/100\n",
      "24/24 [==============================] - 0s 609us/step - loss: 0.2456 - accuracy: 0.9560\n",
      "Epoch 68/100\n",
      "24/24 [==============================] - 0s 652us/step - loss: 0.2401 - accuracy: 0.9560\n",
      "Epoch 69/100\n",
      "24/24 [==============================] - 0s 652us/step - loss: 0.2347 - accuracy: 0.9587\n",
      "Epoch 70/100\n",
      "24/24 [==============================] - 0s 609us/step - loss: 0.2295 - accuracy: 0.9600\n",
      "Epoch 71/100\n",
      "24/24 [==============================] - 0s 609us/step - loss: 0.2245 - accuracy: 0.9627\n",
      "Epoch 72/100\n",
      "24/24 [==============================] - 0s 609us/step - loss: 0.2194 - accuracy: 0.9627\n",
      "Epoch 73/100\n",
      "24/24 [==============================] - 0s 609us/step - loss: 0.2146 - accuracy: 0.9627\n",
      "Epoch 74/100\n",
      "24/24 [==============================] - 0s 652us/step - loss: 0.2098 - accuracy: 0.9640\n",
      "Epoch 75/100\n",
      "24/24 [==============================] - 0s 609us/step - loss: 0.2051 - accuracy: 0.9653\n",
      "Epoch 76/100\n",
      "24/24 [==============================] - 0s 609us/step - loss: 0.2006 - accuracy: 0.9667\n",
      "Epoch 77/100\n",
      "24/24 [==============================] - 0s 609us/step - loss: 0.1960 - accuracy: 0.9693\n",
      "Epoch 78/100\n",
      "24/24 [==============================] - 0s 565us/step - loss: 0.1916 - accuracy: 0.9707\n",
      "Epoch 79/100\n",
      "24/24 [==============================] - 0s 609us/step - loss: 0.1873 - accuracy: 0.9720\n",
      "Epoch 80/100\n",
      "24/24 [==============================] - 0s 652us/step - loss: 0.1831 - accuracy: 0.9760\n",
      "Epoch 81/100\n"
     ]
    },
    {
     "name": "stdout",
     "output_type": "stream",
     "text": [
      "24/24 [==============================] - 0s 652us/step - loss: 0.1790 - accuracy: 0.9773\n",
      "Epoch 82/100\n",
      "24/24 [==============================] - 0s 609us/step - loss: 0.1751 - accuracy: 0.9773\n",
      "Epoch 83/100\n",
      "24/24 [==============================] - 0s 609us/step - loss: 0.1712 - accuracy: 0.9787\n",
      "Epoch 84/100\n",
      "24/24 [==============================] - 0s 609us/step - loss: 0.1674 - accuracy: 0.9787\n",
      "Epoch 85/100\n",
      "24/24 [==============================] - 0s 652us/step - loss: 0.1637 - accuracy: 0.9800\n",
      "Epoch 86/100\n",
      "24/24 [==============================] - 0s 609us/step - loss: 0.1601 - accuracy: 0.9813\n",
      "Epoch 87/100\n",
      "24/24 [==============================] - 0s 652us/step - loss: 0.1566 - accuracy: 0.9827\n",
      "Epoch 88/100\n",
      "24/24 [==============================] - 0s 608us/step - loss: 0.1532 - accuracy: 0.9867\n",
      "Epoch 89/100\n",
      "24/24 [==============================] - 0s 609us/step - loss: 0.1498 - accuracy: 0.9880\n",
      "Epoch 90/100\n",
      "24/24 [==============================] - 0s 609us/step - loss: 0.1466 - accuracy: 0.9893\n",
      "Epoch 91/100\n",
      "24/24 [==============================] - 0s 609us/step - loss: 0.1434 - accuracy: 0.9893\n",
      "Epoch 92/100\n",
      "24/24 [==============================] - 0s 609us/step - loss: 0.1403 - accuracy: 0.9907\n",
      "Epoch 93/100\n",
      "24/24 [==============================] - 0s 628us/step - loss: 0.1373 - accuracy: 0.9907\n",
      "Epoch 94/100\n",
      "24/24 [==============================] - 0s 609us/step - loss: 0.1344 - accuracy: 0.9920\n",
      "Epoch 95/100\n",
      "24/24 [==============================] - 0s 565us/step - loss: 0.1316 - accuracy: 0.9920\n",
      "Epoch 96/100\n",
      "24/24 [==============================] - 0s 646us/step - loss: 0.1289 - accuracy: 0.9933\n",
      "Epoch 97/100\n",
      "24/24 [==============================] - 0s 609us/step - loss: 0.1262 - accuracy: 0.9933\n",
      "Epoch 98/100\n",
      "24/24 [==============================] - 0s 638us/step - loss: 0.1236 - accuracy: 0.9933\n",
      "Epoch 99/100\n",
      "24/24 [==============================] - 0s 626us/step - loss: 0.1210 - accuracy: 0.9933\n",
      "Epoch 100/100\n",
      "24/24 [==============================] - 0s 652us/step - loss: 0.1185 - accuracy: 0.9933\n"
     ]
    }
   ],
   "source": [
    "# Fit the model to the training data\n",
    "fit_model = nn_model.fit(X_train_scaled, y_train, epochs=100)"
   ]
  },
  {
   "cell_type": "code",
   "execution_count": 11,
   "id": "7b41dc1f",
   "metadata": {},
   "outputs": [
    {
     "data": {
      "text/plain": [
       "<AxesSubplot:>"
      ]
     },
     "execution_count": 11,
     "metadata": {},
     "output_type": "execute_result"
    },
    {
     "data": {
      "image/png": "[encoded data removed]",
      "text/plain": [
       "<Figure size 432x288 with 1 Axes>"
      ]
     },
     "metadata": {
      "needs_background": "light"
     },
     "output_type": "display_data"
    }
   ],
   "source": [
    "# Create a DataFrame containing training history\n",
    "history_df = pd.DataFrame(fit_model.history, index=range(1,len(fit_model.history[\"loss\"])+1))\n",
    "\n",
    "# Plot the loss\n",
    "history_df.plot(y=\"loss\")"
   ]
  },
  {
   "cell_type": "code",
   "execution_count": 12,
   "id": "32146fbd",
   "metadata": {},
   "outputs": [
    {
     "data": {
      "text/plain": [
       "<AxesSubplot:>"
      ]
     },
     "execution_count": 12,
     "metadata": {},
     "output_type": "execute_result"
    },
    {
     "data": {
      "image/png": "[encoded data removed]",
      "text/plain": [
       "<Figure size 432x288 with 1 Axes>"
      ]
     },
     "metadata": {
      "needs_background": "light"
     },
     "output_type": "display_data"
    }
   ],
   "source": [
    "# Plot the accuracy\n",
    "history_df.plot(y=\"accuracy\")"
   ]
  },
  {
   "cell_type": "code",
   "execution_count": 13,
   "id": "a3c96e86",
   "metadata": {},
   "outputs": [
    {
     "name": "stdout",
     "output_type": "stream",
     "text": [
      "8/8 - 0s - loss: 0.1148 - accuracy: 0.9960 - 116ms/epoch - 14ms/step\n",
      "Loss: 0.11477085947990417, Accuracy: 0.9959999918937683\n"
     ]
    }
   ],
   "source": [
    "# Evaluate the model using the test data\n",
    "model_loss, model_accuracy = nn_model.evaluate(X_test_scaled,y_test,verbose=2)\n",
    "print(f\"Loss: {model_loss}, Accuracy: {model_accuracy}\")"
   ]
  },
  {
   "cell_type": "code",
   "execution_count": 14,
   "id": "24e06719",
   "metadata": {},
   "outputs": [
    {
     "name": "stdout",
     "output_type": "stream",
     "text": [
      "1/1 [==============================] - 0s 63ms/step\n"
     ]
    },
    {
     "data": {
      "text/plain": [
       "array([[0],\n",
       "       [1],\n",
       "       [0],\n",
       "       [1],\n",
       "       [0],\n",
       "       [0],\n",
       "       [1],\n",
       "       [1],\n",
       "       [1],\n",
       "       [0]])"
      ]
     },
     "execution_count": 14,
     "metadata": {},
     "output_type": "execute_result"
    }
   ],
   "source": [
    "# Predict the classification of a new set of blob data\n",
    "new_X, new_Y = make_blobs(n_samples=10, centers=2, n_features=2, random_state=78)\n",
    "new_X_scaled = X_scaler.transform(new_X)\n",
    "(nn_model.predict(new_X_scaled) > 0.5).astype(\"int32\")"
   ]
  },
  {
   "cell_type": "code",
   "execution_count": 15,
   "id": "7d1d07c6",
   "metadata": {},
   "outputs": [
    {
     "data": {
      "text/plain": [
       "<AxesSubplot:xlabel='Feature 1', ylabel='Feature 2'>"
      ]
     },
     "execution_count": 15,
     "metadata": {},
     "output_type": "execute_result"
    },
    {
     "data": {
      "image/png": "[encoded data removed]",
      "text/plain": [
       "<Figure size 432x288 with 2 Axes>"
      ]
     },
     "metadata": {
      "needs_background": "light"
     },
     "output_type": "display_data"
    }
   ],
   "source": [
    "from sklearn.datasets import make_moons\n",
    "\n",
    "# Creating dummy nonlinear data\n",
    "X_moons, y_moons = make_moons(n_samples=1000, noise=0.08, random_state=78)\n",
    "\n",
    "# Transforming y_moons to a vertical vector\n",
    "y_moons = y_moons.reshape(-1, 1)\n",
    "\n",
    "# Creating a DataFrame to plot the nonlinear dummy data\n",
    "df_moons = pd.DataFrame(X_moons, columns=[\"Feature 1\", \"Feature 2\"])\n",
    "df_moons[\"Target\"] = y_moons\n",
    "\n",
    "# Plot the nonlinear dummy data\n",
    "df_moons.plot.scatter(x=\"Feature 1\",y=\"Feature 2\", c=\"Target\",colormap=\"winter\")"
   ]
  },
  {
   "cell_type": "code",
   "execution_count": 16,
   "id": "628a9d94",
   "metadata": {},
   "outputs": [],
   "source": [
    "# Create training and testing sets\n",
    "X_moon_train, X_moon_test, y_moon_train, y_moon_test = train_test_split(\n",
    "    X_moons, y_moons, random_state=78\n",
    ")\n",
    "\n",
    "# Create the scaler instance\n",
    "X_moon_scaler = skl.preprocessing.StandardScaler()\n",
    "\n",
    "# Fit the scaler\n",
    "X_moon_scaler.fit(X_moon_train)\n",
    "\n",
    "# Scale the data\n",
    "X_moon_train_scaled = X_moon_scaler.transform(X_moon_train)\n",
    "X_moon_test_scaled = X_moon_scaler.transform(X_moon_test)"
   ]
  },
  {
   "cell_type": "code",
   "execution_count": 17,
   "id": "17a9fe2d",
   "metadata": {},
   "outputs": [
    {
     "name": "stdout",
     "output_type": "stream",
     "text": [
      "Epoch 1/100\n",
      "24/24 [==============================] - 0s 916us/step - loss: 1.4487 - accuracy: 0.3173\n",
      "Epoch 2/100\n",
      "24/24 [==============================] - 0s 624us/step - loss: 1.2847 - accuracy: 0.3333\n",
      "Epoch 3/100\n",
      "24/24 [==============================] - 0s 652us/step - loss: 1.1747 - accuracy: 0.3467\n",
      "Epoch 4/100\n",
      "24/24 [==============================] - 0s 652us/step - loss: 1.1002 - accuracy: 0.3627\n",
      "Epoch 5/100\n",
      "24/24 [==============================] - 0s 609us/step - loss: 1.0433 - accuracy: 0.3827\n",
      "Epoch 6/100\n",
      "24/24 [==============================] - 0s 652us/step - loss: 0.9998 - accuracy: 0.3960\n",
      "Epoch 7/100\n",
      "24/24 [==============================] - 0s 609us/step - loss: 0.9631 - accuracy: 0.4080\n",
      "Epoch 8/100\n",
      "24/24 [==============================] - 0s 609us/step - loss: 0.9323 - accuracy: 0.4200\n",
      "Epoch 9/100\n",
      "24/24 [==============================] - 0s 609us/step - loss: 0.9048 - accuracy: 0.4307\n",
      "Epoch 10/100\n",
      "24/24 [==============================] - 0s 652us/step - loss: 0.8809 - accuracy: 0.4413\n",
      "Epoch 11/100\n",
      "24/24 [==============================] - 0s 652us/step - loss: 0.8597 - accuracy: 0.4453\n",
      "Epoch 12/100\n",
      "24/24 [==============================] - 0s 609us/step - loss: 0.8398 - accuracy: 0.4533\n",
      "Epoch 13/100\n",
      "24/24 [==============================] - 0s 608us/step - loss: 0.8210 - accuracy: 0.4640\n",
      "Epoch 14/100\n",
      "24/24 [==============================] - 0s 654us/step - loss: 0.8032 - accuracy: 0.4667\n",
      "Epoch 15/100\n",
      "24/24 [==============================] - 0s 652us/step - loss: 0.7867 - accuracy: 0.4760\n",
      "Epoch 16/100\n",
      "24/24 [==============================] - 0s 652us/step - loss: 0.7711 - accuracy: 0.4827\n",
      "Epoch 17/100\n",
      "24/24 [==============================] - 0s 652us/step - loss: 0.7563 - accuracy: 0.4960\n",
      "Epoch 18/100\n",
      "24/24 [==============================] - 0s 646us/step - loss: 0.7425 - accuracy: 0.5053\n",
      "Epoch 19/100\n",
      "24/24 [==============================] - 0s 609us/step - loss: 0.7298 - accuracy: 0.5173\n",
      "Epoch 20/100\n",
      "24/24 [==============================] - 0s 609us/step - loss: 0.7175 - accuracy: 0.5253\n",
      "Epoch 21/100\n",
      "24/24 [==============================] - 0s 609us/step - loss: 0.7061 - accuracy: 0.5360\n",
      "Epoch 22/100\n",
      "24/24 [==============================] - 0s 609us/step - loss: 0.6953 - accuracy: 0.5453\n",
      "Epoch 23/100\n",
      "24/24 [==============================] - 0s 609us/step - loss: 0.6852 - accuracy: 0.5507\n",
      "Epoch 24/100\n",
      "24/24 [==============================] - 0s 609us/step - loss: 0.6756 - accuracy: 0.5573\n",
      "Epoch 25/100\n",
      "24/24 [==============================] - 0s 565us/step - loss: 0.6664 - accuracy: 0.5653\n",
      "Epoch 26/100\n",
      "24/24 [==============================] - 0s 652us/step - loss: 0.6577 - accuracy: 0.5760\n",
      "Epoch 27/100\n",
      "24/24 [==============================] - 0s 652us/step - loss: 0.6494 - accuracy: 0.5907\n",
      "Epoch 28/100\n",
      "24/24 [==============================] - 0s 609us/step - loss: 0.6415 - accuracy: 0.5960\n",
      "Epoch 29/100\n",
      "24/24 [==============================] - 0s 609us/step - loss: 0.6341 - accuracy: 0.5987\n",
      "Epoch 30/100\n",
      "24/24 [==============================] - 0s 612us/step - loss: 0.6271 - accuracy: 0.6053\n",
      "Epoch 31/100\n",
      "24/24 [==============================] - 0s 652us/step - loss: 0.6203 - accuracy: 0.6093\n",
      "Epoch 32/100\n",
      "24/24 [==============================] - 0s 609us/step - loss: 0.6137 - accuracy: 0.6160\n",
      "Epoch 33/100\n",
      "24/24 [==============================] - 0s 609us/step - loss: 0.6071 - accuracy: 0.6213\n",
      "Epoch 34/100\n",
      "24/24 [==============================] - 0s 652us/step - loss: 0.6011 - accuracy: 0.6240\n",
      "Epoch 35/100\n",
      "24/24 [==============================] - 0s 609us/step - loss: 0.5949 - accuracy: 0.6280\n",
      "Epoch 36/100\n",
      "24/24 [==============================] - 0s 652us/step - loss: 0.5891 - accuracy: 0.6347\n",
      "Epoch 37/100\n",
      "24/24 [==============================] - 0s 652us/step - loss: 0.5836 - accuracy: 0.6427\n",
      "Epoch 38/100\n",
      "24/24 [==============================] - 0s 652us/step - loss: 0.5784 - accuracy: 0.6520\n",
      "Epoch 39/100\n",
      "24/24 [==============================] - 0s 652us/step - loss: 0.5733 - accuracy: 0.6573\n",
      "Epoch 40/100\n",
      "24/24 [==============================] - 0s 609us/step - loss: 0.5684 - accuracy: 0.6587\n",
      "Epoch 41/100\n",
      "24/24 [==============================] - 0s 609us/step - loss: 0.5637 - accuracy: 0.6640\n",
      "Epoch 42/100\n",
      "24/24 [==============================] - 0s 576us/step - loss: 0.5591 - accuracy: 0.6693\n",
      "Epoch 43/100\n",
      "24/24 [==============================] - 0s 652us/step - loss: 0.5547 - accuracy: 0.6747\n",
      "Epoch 44/100\n",
      "24/24 [==============================] - 0s 683us/step - loss: 0.5505 - accuracy: 0.6800\n",
      "Epoch 45/100\n",
      "24/24 [==============================] - 0s 609us/step - loss: 0.5463 - accuracy: 0.6813\n",
      "Epoch 46/100\n",
      "24/24 [==============================] - 0s 609us/step - loss: 0.5422 - accuracy: 0.6853\n",
      "Epoch 47/100\n",
      "24/24 [==============================] - 0s 609us/step - loss: 0.5382 - accuracy: 0.6893\n",
      "Epoch 48/100\n",
      "24/24 [==============================] - 0s 616us/step - loss: 0.5344 - accuracy: 0.6907\n",
      "Epoch 49/100\n",
      "24/24 [==============================] - 0s 609us/step - loss: 0.5304 - accuracy: 0.6933\n",
      "Epoch 50/100\n",
      "24/24 [==============================] - 0s 665us/step - loss: 0.5266 - accuracy: 0.6973\n",
      "Epoch 51/100\n",
      "24/24 [==============================] - 0s 652us/step - loss: 0.5229 - accuracy: 0.7027\n",
      "Epoch 52/100\n",
      "24/24 [==============================] - 0s 652us/step - loss: 0.5194 - accuracy: 0.7067\n",
      "Epoch 53/100\n",
      "24/24 [==============================] - 0s 583us/step - loss: 0.5160 - accuracy: 0.7120\n",
      "Epoch 54/100\n",
      "24/24 [==============================] - 0s 609us/step - loss: 0.5125 - accuracy: 0.7147\n",
      "Epoch 55/100\n",
      "24/24 [==============================] - 0s 609us/step - loss: 0.5093 - accuracy: 0.7147\n",
      "Epoch 56/100\n",
      "24/24 [==============================] - 0s 609us/step - loss: 0.5061 - accuracy: 0.7173\n",
      "Epoch 57/100\n",
      "24/24 [==============================] - 0s 609us/step - loss: 0.5029 - accuracy: 0.7227\n",
      "Epoch 58/100\n",
      "24/24 [==============================] - 0s 609us/step - loss: 0.4999 - accuracy: 0.7240\n",
      "Epoch 59/100\n",
      "24/24 [==============================] - 0s 565us/step - loss: 0.4968 - accuracy: 0.7280\n",
      "Epoch 60/100\n",
      "24/24 [==============================] - 0s 652us/step - loss: 0.4937 - accuracy: 0.7307\n",
      "Epoch 61/100\n",
      "24/24 [==============================] - 0s 652us/step - loss: 0.4909 - accuracy: 0.7333\n",
      "Epoch 62/100\n",
      "24/24 [==============================] - 0s 609us/step - loss: 0.4877 - accuracy: 0.7347\n",
      "Epoch 63/100\n",
      "24/24 [==============================] - 0s 609us/step - loss: 0.4847 - accuracy: 0.7360\n",
      "Epoch 64/100\n",
      "24/24 [==============================] - 0s 609us/step - loss: 0.4817 - accuracy: 0.7373\n",
      "Epoch 65/100\n",
      "24/24 [==============================] - 0s 609us/step - loss: 0.4789 - accuracy: 0.7387\n",
      "Epoch 66/100\n",
      "24/24 [==============================] - 0s 609us/step - loss: 0.4760 - accuracy: 0.7427\n",
      "Epoch 67/100\n",
      "24/24 [==============================] - 0s 609us/step - loss: 0.4731 - accuracy: 0.7453\n",
      "Epoch 68/100\n",
      "24/24 [==============================] - 0s 609us/step - loss: 0.4704 - accuracy: 0.7467\n",
      "Epoch 69/100\n",
      "24/24 [==============================] - 0s 609us/step - loss: 0.4675 - accuracy: 0.7480\n",
      "Epoch 70/100\n",
      "24/24 [==============================] - 0s 652us/step - loss: 0.4646 - accuracy: 0.7520\n",
      "Epoch 71/100\n",
      "24/24 [==============================] - 0s 666us/step - loss: 0.4618 - accuracy: 0.7547\n",
      "Epoch 72/100\n",
      "24/24 [==============================] - 0s 565us/step - loss: 0.4589 - accuracy: 0.7587\n",
      "Epoch 73/100\n",
      "24/24 [==============================] - 0s 609us/step - loss: 0.4561 - accuracy: 0.7613\n",
      "Epoch 74/100\n",
      "24/24 [==============================] - 0s 609us/step - loss: 0.4533 - accuracy: 0.7627\n",
      "Epoch 75/100\n",
      "24/24 [==============================] - 0s 609us/step - loss: 0.4504 - accuracy: 0.7640\n",
      "Epoch 76/100\n",
      "24/24 [==============================] - 0s 609us/step - loss: 0.4476 - accuracy: 0.7667\n",
      "Epoch 77/100\n",
      "24/24 [==============================] - 0s 609us/step - loss: 0.4448 - accuracy: 0.7680\n",
      "Epoch 78/100\n",
      "24/24 [==============================] - 0s 652us/step - loss: 0.4420 - accuracy: 0.7747\n",
      "Epoch 79/100\n",
      "24/24 [==============================] - 0s 609us/step - loss: 0.4391 - accuracy: 0.7760\n",
      "Epoch 80/100\n",
      "24/24 [==============================] - 0s 609us/step - loss: 0.4363 - accuracy: 0.7773\n",
      "Epoch 81/100\n"
     ]
    },
    {
     "name": "stdout",
     "output_type": "stream",
     "text": [
      "24/24 [==============================] - 0s 643us/step - loss: 0.4334 - accuracy: 0.7773\n",
      "Epoch 82/100\n",
      "24/24 [==============================] - 0s 609us/step - loss: 0.4307 - accuracy: 0.7787\n",
      "Epoch 83/100\n",
      "24/24 [==============================] - 0s 609us/step - loss: 0.4279 - accuracy: 0.7813\n",
      "Epoch 84/100\n",
      "24/24 [==============================] - 0s 609us/step - loss: 0.4251 - accuracy: 0.7840\n",
      "Epoch 85/100\n",
      "24/24 [==============================] - 0s 641us/step - loss: 0.4223 - accuracy: 0.7920\n",
      "Epoch 86/100\n",
      "24/24 [==============================] - 0s 652us/step - loss: 0.4196 - accuracy: 0.7947\n",
      "Epoch 87/100\n",
      "24/24 [==============================] - 0s 652us/step - loss: 0.4167 - accuracy: 0.7960\n",
      "Epoch 88/100\n",
      "24/24 [==============================] - 0s 681us/step - loss: 0.4138 - accuracy: 0.7973\n",
      "Epoch 89/100\n",
      "24/24 [==============================] - 0s 649us/step - loss: 0.4108 - accuracy: 0.8000\n",
      "Epoch 90/100\n",
      "24/24 [==============================] - 0s 652us/step - loss: 0.4079 - accuracy: 0.8080\n",
      "Epoch 91/100\n",
      "24/24 [==============================] - 0s 652us/step - loss: 0.4048 - accuracy: 0.8120\n",
      "Epoch 92/100\n",
      "24/24 [==============================] - 0s 652us/step - loss: 0.4018 - accuracy: 0.8133\n",
      "Epoch 93/100\n",
      "24/24 [==============================] - 0s 664us/step - loss: 0.3987 - accuracy: 0.8147\n",
      "Epoch 94/100\n",
      "24/24 [==============================] - 0s 642us/step - loss: 0.3956 - accuracy: 0.8173\n",
      "Epoch 95/100\n",
      "24/24 [==============================] - 0s 609us/step - loss: 0.3926 - accuracy: 0.8187\n",
      "Epoch 96/100\n",
      "24/24 [==============================] - 0s 597us/step - loss: 0.3896 - accuracy: 0.8187\n",
      "Epoch 97/100\n",
      "24/24 [==============================] - 0s 647us/step - loss: 0.3864 - accuracy: 0.8200\n",
      "Epoch 98/100\n",
      "24/24 [==============================] - 0s 609us/step - loss: 0.3833 - accuracy: 0.8213\n",
      "Epoch 99/100\n",
      "24/24 [==============================] - 0s 652us/step - loss: 0.3801 - accuracy: 0.8240\n",
      "Epoch 100/100\n",
      "24/24 [==============================] - 0s 565us/step - loss: 0.3768 - accuracy: 0.8267\n"
     ]
    }
   ],
   "source": [
    "# Training the model with the nonlinear data\n",
    "model_moon = nn_model.fit(X_moon_train_scaled, y_moon_train, epochs=100, shuffle=True)"
   ]
  },
  {
   "cell_type": "code",
   "execution_count": 18,
   "id": "153ba5cf",
   "metadata": {},
   "outputs": [
    {
     "data": {
      "text/plain": [
       "<AxesSubplot:>"
      ]
     },
     "execution_count": 18,
     "metadata": {},
     "output_type": "execute_result"
    },
    {
     "data": {
      "image/png": "[encoded data removed]",
      "text/plain": [
       "<Figure size 432x288 with 1 Axes>"
      ]
     },
     "metadata": {
      "needs_background": "light"
     },
     "output_type": "display_data"
    }
   ],
   "source": [
    "# Create a DataFrame containing training history\n",
    "history_df = pd.DataFrame(model_moon.history, index=range(1,len(model_moon.history[\"loss\"])+1))\n",
    "\n",
    "# Plot the loss\n",
    "history_df.plot(y=\"loss\")"
   ]
  },
  {
   "cell_type": "code",
   "execution_count": 19,
   "id": "010e215d",
   "metadata": {},
   "outputs": [
    {
     "data": {
      "text/plain": [
       "<AxesSubplot:>"
      ]
     },
     "execution_count": 19,
     "metadata": {},
     "output_type": "execute_result"
    },
    {
     "data": {
      "image/png": "[encoded data removed]",
      "text/plain": [
       "<Figure size 432x288 with 1 Axes>"
      ]
     },
     "metadata": {
      "needs_background": "light"
     },
     "output_type": "display_data"
    }
   ],
   "source": [
    "# Plot the accuracy\n",
    "history_df.plot(y=\"accuracy\")"
   ]
  },
  {
   "cell_type": "code",
   "execution_count": 20,
   "id": "d35b5022",
   "metadata": {},
   "outputs": [],
   "source": [
    "# Generate our new Sequential model\n",
    "new_model = tf.keras.models.Sequential()"
   ]
  },
  {
   "cell_type": "code",
   "execution_count": 21,
   "id": "1c6bc2c6",
   "metadata": {},
   "outputs": [],
   "source": [
    "# Add the input and hidden layer\n",
    "number_inputs = 2\n",
    "number_hidden_nodes = 6\n",
    "\n",
    "new_model.add(tf.keras.layers.Dense(units=number_hidden_nodes, activation='relu', input_dim=number_inputs))\n",
    "\n",
    "# Add the output layer that uses a probability activation function\n",
    "new_model.add(tf.keras.layers.Dense(units=1, activation='sigmoid'))"
   ]
  },
  {
   "cell_type": "code",
   "execution_count": 22,
   "id": "f125f4cb",
   "metadata": {},
   "outputs": [
    {
     "name": "stdout",
     "output_type": "stream",
     "text": [
      "Epoch 1/100\n",
      "24/24 [==============================] - 0s 771us/step - loss: 0.6273 - accuracy: 0.5760\n",
      "Epoch 2/100\n",
      "24/24 [==============================] - 0s 662us/step - loss: 0.5931 - accuracy: 0.6893\n",
      "Epoch 3/100\n",
      "24/24 [==============================] - 0s 652us/step - loss: 0.5621 - accuracy: 0.7533\n",
      "Epoch 4/100\n",
      "24/24 [==============================] - 0s 696us/step - loss: 0.5339 - accuracy: 0.7853\n",
      "Epoch 5/100\n",
      "24/24 [==============================] - 0s 696us/step - loss: 0.5080 - accuracy: 0.7880\n",
      "Epoch 6/100\n",
      "24/24 [==============================] - 0s 696us/step - loss: 0.4842 - accuracy: 0.7920\n",
      "Epoch 7/100\n",
      "24/24 [==============================] - 0s 652us/step - loss: 0.4621 - accuracy: 0.7987\n",
      "Epoch 8/100\n",
      "24/24 [==============================] - 0s 652us/step - loss: 0.4421 - accuracy: 0.8133\n",
      "Epoch 9/100\n",
      "24/24 [==============================] - 0s 696us/step - loss: 0.4238 - accuracy: 0.8187\n",
      "Epoch 10/100\n",
      "24/24 [==============================] - 0s 783us/step - loss: 0.4078 - accuracy: 0.8227\n",
      "Epoch 11/100\n",
      "24/24 [==============================] - 0s 652us/step - loss: 0.3934 - accuracy: 0.8307\n",
      "Epoch 12/100\n",
      "24/24 [==============================] - 0s 652us/step - loss: 0.3805 - accuracy: 0.8360\n",
      "Epoch 13/100\n",
      "24/24 [==============================] - 0s 739us/step - loss: 0.3688 - accuracy: 0.8333\n",
      "Epoch 14/100\n",
      "24/24 [==============================] - 0s 772us/step - loss: 0.3576 - accuracy: 0.8347\n",
      "Epoch 15/100\n",
      "24/24 [==============================] - 0s 652us/step - loss: 0.3477 - accuracy: 0.8387\n",
      "Epoch 16/100\n",
      "24/24 [==============================] - 0s 609us/step - loss: 0.3384 - accuracy: 0.8400\n",
      "Epoch 17/100\n",
      "24/24 [==============================] - 0s 609us/step - loss: 0.3295 - accuracy: 0.8400\n",
      "Epoch 18/100\n",
      "24/24 [==============================] - 0s 609us/step - loss: 0.3215 - accuracy: 0.8453\n",
      "Epoch 19/100\n",
      "24/24 [==============================] - 0s 652us/step - loss: 0.3142 - accuracy: 0.8520\n",
      "Epoch 20/100\n",
      "24/24 [==============================] - 0s 652us/step - loss: 0.3078 - accuracy: 0.8600\n",
      "Epoch 21/100\n",
      "24/24 [==============================] - 0s 652us/step - loss: 0.3019 - accuracy: 0.8667\n",
      "Epoch 22/100\n",
      "24/24 [==============================] - 0s 652us/step - loss: 0.2966 - accuracy: 0.8720\n",
      "Epoch 23/100\n",
      "24/24 [==============================] - 0s 608us/step - loss: 0.2920 - accuracy: 0.8720\n",
      "Epoch 24/100\n",
      "24/24 [==============================] - 0s 609us/step - loss: 0.2875 - accuracy: 0.8733\n",
      "Epoch 25/100\n",
      "24/24 [==============================] - 0s 609us/step - loss: 0.2836 - accuracy: 0.8747\n",
      "Epoch 26/100\n",
      "24/24 [==============================] - 0s 609us/step - loss: 0.2801 - accuracy: 0.8800\n",
      "Epoch 27/100\n",
      "24/24 [==============================] - 0s 609us/step - loss: 0.2768 - accuracy: 0.8827\n",
      "Epoch 28/100\n",
      "24/24 [==============================] - 0s 609us/step - loss: 0.2739 - accuracy: 0.8840\n",
      "Epoch 29/100\n",
      "24/24 [==============================] - 0s 609us/step - loss: 0.2713 - accuracy: 0.8853\n",
      "Epoch 30/100\n",
      "24/24 [==============================] - 0s 609us/step - loss: 0.2688 - accuracy: 0.8880\n",
      "Epoch 31/100\n",
      "24/24 [==============================] - 0s 609us/step - loss: 0.2663 - accuracy: 0.8893\n",
      "Epoch 32/100\n",
      "24/24 [==============================] - 0s 652us/step - loss: 0.2642 - accuracy: 0.8907\n",
      "Epoch 33/100\n",
      "24/24 [==============================] - 0s 672us/step - loss: 0.2621 - accuracy: 0.8907\n",
      "Epoch 34/100\n",
      "24/24 [==============================] - 0s 696us/step - loss: 0.2603 - accuracy: 0.8907\n",
      "Epoch 35/100\n",
      "24/24 [==============================] - 0s 609us/step - loss: 0.2586 - accuracy: 0.8907\n",
      "Epoch 36/100\n",
      "24/24 [==============================] - 0s 609us/step - loss: 0.2572 - accuracy: 0.8907\n",
      "Epoch 37/100\n",
      "24/24 [==============================] - 0s 609us/step - loss: 0.2554 - accuracy: 0.8907\n",
      "Epoch 38/100\n",
      "24/24 [==============================] - 0s 609us/step - loss: 0.2540 - accuracy: 0.8907\n",
      "Epoch 39/100\n",
      "24/24 [==============================] - 0s 679us/step - loss: 0.2526 - accuracy: 0.8907\n",
      "Epoch 40/100\n",
      "24/24 [==============================] - 0s 609us/step - loss: 0.2513 - accuracy: 0.8920\n",
      "Epoch 41/100\n",
      "24/24 [==============================] - 0s 666us/step - loss: 0.2501 - accuracy: 0.8933\n",
      "Epoch 42/100\n",
      "24/24 [==============================] - 0s 652us/step - loss: 0.2490 - accuracy: 0.8933\n",
      "Epoch 43/100\n",
      "24/24 [==============================] - 0s 652us/step - loss: 0.2477 - accuracy: 0.8960\n",
      "Epoch 44/100\n",
      "24/24 [==============================] - 0s 609us/step - loss: 0.2467 - accuracy: 0.8973\n",
      "Epoch 45/100\n",
      "24/24 [==============================] - 0s 609us/step - loss: 0.2457 - accuracy: 0.8973\n",
      "Epoch 46/100\n",
      "24/24 [==============================] - 0s 652us/step - loss: 0.2448 - accuracy: 0.8987\n",
      "Epoch 47/100\n",
      "24/24 [==============================] - 0s 609us/step - loss: 0.2438 - accuracy: 0.8987\n",
      "Epoch 48/100\n",
      "24/24 [==============================] - 0s 652us/step - loss: 0.2429 - accuracy: 0.8987\n",
      "Epoch 49/100\n",
      "24/24 [==============================] - 0s 609us/step - loss: 0.2421 - accuracy: 0.9000\n",
      "Epoch 50/100\n",
      "24/24 [==============================] - 0s 652us/step - loss: 0.2413 - accuracy: 0.9000\n",
      "Epoch 51/100\n",
      "24/24 [==============================] - 0s 652us/step - loss: 0.2406 - accuracy: 0.9000\n",
      "Epoch 52/100\n",
      "24/24 [==============================] - 0s 652us/step - loss: 0.2400 - accuracy: 0.9000\n",
      "Epoch 53/100\n",
      "24/24 [==============================] - 0s 652us/step - loss: 0.2393 - accuracy: 0.9013\n",
      "Epoch 54/100\n",
      "24/24 [==============================] - 0s 652us/step - loss: 0.2386 - accuracy: 0.9027\n",
      "Epoch 55/100\n",
      "24/24 [==============================] - 0s 652us/step - loss: 0.2380 - accuracy: 0.9027\n",
      "Epoch 56/100\n",
      "24/24 [==============================] - 0s 652us/step - loss: 0.2375 - accuracy: 0.9027\n",
      "Epoch 57/100\n",
      "24/24 [==============================] - 0s 609us/step - loss: 0.2369 - accuracy: 0.9027\n",
      "Epoch 58/100\n",
      "24/24 [==============================] - 0s 627us/step - loss: 0.2364 - accuracy: 0.9027\n",
      "Epoch 59/100\n",
      "24/24 [==============================] - 0s 609us/step - loss: 0.2360 - accuracy: 0.9027\n",
      "Epoch 60/100\n",
      "24/24 [==============================] - 0s 609us/step - loss: 0.2355 - accuracy: 0.9027\n",
      "Epoch 61/100\n",
      "24/24 [==============================] - 0s 609us/step - loss: 0.2350 - accuracy: 0.9027\n",
      "Epoch 62/100\n",
      "24/24 [==============================] - 0s 652us/step - loss: 0.2346 - accuracy: 0.9027\n",
      "Epoch 63/100\n",
      "24/24 [==============================] - 0s 652us/step - loss: 0.2341 - accuracy: 0.9027\n",
      "Epoch 64/100\n",
      "24/24 [==============================] - 0s 652us/step - loss: 0.2337 - accuracy: 0.9027\n",
      "Epoch 65/100\n",
      "24/24 [==============================] - 0s 652us/step - loss: 0.2333 - accuracy: 0.9027\n",
      "Epoch 66/100\n",
      "24/24 [==============================] - 0s 689us/step - loss: 0.2328 - accuracy: 0.9027\n",
      "Epoch 67/100\n",
      "24/24 [==============================] - 0s 614us/step - loss: 0.2325 - accuracy: 0.9027\n",
      "Epoch 68/100\n",
      "24/24 [==============================] - 0s 696us/step - loss: 0.2321 - accuracy: 0.9027\n",
      "Epoch 69/100\n",
      "24/24 [==============================] - 0s 652us/step - loss: 0.2317 - accuracy: 0.9027\n",
      "Epoch 70/100\n",
      "24/24 [==============================] - 0s 652us/step - loss: 0.2313 - accuracy: 0.9027\n",
      "Epoch 71/100\n",
      "24/24 [==============================] - 0s 652us/step - loss: 0.2310 - accuracy: 0.9027\n",
      "Epoch 72/100\n",
      "24/24 [==============================] - 0s 686us/step - loss: 0.2306 - accuracy: 0.9027\n",
      "Epoch 73/100\n",
      "24/24 [==============================] - 0s 652us/step - loss: 0.2303 - accuracy: 0.9027\n",
      "Epoch 74/100\n",
      "24/24 [==============================] - 0s 631us/step - loss: 0.2300 - accuracy: 0.9027\n",
      "Epoch 75/100\n",
      "24/24 [==============================] - 0s 636us/step - loss: 0.2297 - accuracy: 0.9027\n",
      "Epoch 76/100\n",
      "24/24 [==============================] - 0s 662us/step - loss: 0.2294 - accuracy: 0.9027\n",
      "Epoch 77/100\n",
      "24/24 [==============================] - 0s 645us/step - loss: 0.2291 - accuracy: 0.9027\n",
      "Epoch 78/100\n",
      "24/24 [==============================] - 0s 609us/step - loss: 0.2287 - accuracy: 0.9027\n",
      "Epoch 79/100\n",
      "24/24 [==============================] - 0s 652us/step - loss: 0.2285 - accuracy: 0.9027\n",
      "Epoch 80/100\n",
      "24/24 [==============================] - 0s 659us/step - loss: 0.2283 - accuracy: 0.9027\n",
      "Epoch 81/100\n"
     ]
    },
    {
     "name": "stdout",
     "output_type": "stream",
     "text": [
      "24/24 [==============================] - 0s 609us/step - loss: 0.2280 - accuracy: 0.9027\n",
      "Epoch 82/100\n",
      "24/24 [==============================] - 0s 609us/step - loss: 0.2278 - accuracy: 0.9027\n",
      "Epoch 83/100\n",
      "24/24 [==============================] - 0s 609us/step - loss: 0.2275 - accuracy: 0.9027\n",
      "Epoch 84/100\n",
      "24/24 [==============================] - 0s 652us/step - loss: 0.2272 - accuracy: 0.9027\n",
      "Epoch 85/100\n",
      "24/24 [==============================] - 0s 652us/step - loss: 0.2271 - accuracy: 0.9027\n",
      "Epoch 86/100\n",
      "24/24 [==============================] - 0s 609us/step - loss: 0.2267 - accuracy: 0.9027\n",
      "Epoch 87/100\n",
      "24/24 [==============================] - 0s 652us/step - loss: 0.2266 - accuracy: 0.9027\n",
      "Epoch 88/100\n",
      "24/24 [==============================] - 0s 609us/step - loss: 0.2262 - accuracy: 0.9027\n",
      "Epoch 89/100\n",
      "24/24 [==============================] - 0s 652us/step - loss: 0.2261 - accuracy: 0.9027\n",
      "Epoch 90/100\n",
      "24/24 [==============================] - 0s 609us/step - loss: 0.2260 - accuracy: 0.9027\n",
      "Epoch 91/100\n",
      "24/24 [==============================] - 0s 609us/step - loss: 0.2256 - accuracy: 0.9027\n",
      "Epoch 92/100\n",
      "24/24 [==============================] - 0s 609us/step - loss: 0.2255 - accuracy: 0.9027\n",
      "Epoch 93/100\n",
      "24/24 [==============================] - 0s 609us/step - loss: 0.2251 - accuracy: 0.9027\n",
      "Epoch 94/100\n",
      "24/24 [==============================] - 0s 609us/step - loss: 0.2250 - accuracy: 0.9027\n",
      "Epoch 95/100\n",
      "24/24 [==============================] - 0s 609us/step - loss: 0.2247 - accuracy: 0.9027\n",
      "Epoch 96/100\n",
      "24/24 [==============================] - 0s 615us/step - loss: 0.2245 - accuracy: 0.9027\n",
      "Epoch 97/100\n",
      "24/24 [==============================] - 0s 652us/step - loss: 0.2243 - accuracy: 0.9027\n",
      "Epoch 98/100\n",
      "24/24 [==============================] - 0s 609us/step - loss: 0.2241 - accuracy: 0.9027\n",
      "Epoch 99/100\n",
      "24/24 [==============================] - 0s 652us/step - loss: 0.2239 - accuracy: 0.9027\n",
      "Epoch 100/100\n",
      "24/24 [==============================] - 0s 609us/step - loss: 0.2237 - accuracy: 0.9040\n"
     ]
    }
   ],
   "source": [
    "# Compile the Sequential model together and customize metrics\n",
    "new_model.compile(loss='binary_crossentropy', optimizer='adam', metrics=['accuracy'])\n",
    "\n",
    "# Fit the model to the training data\n",
    "new_fit_model = new_model.fit(X_moon_train_scaled, y_moon_train, epochs=100, shuffle=True)"
   ]
  },
  {
   "cell_type": "code",
   "execution_count": null,
   "id": "0c31aae3",
   "metadata": {},
   "outputs": [],
   "source": []
  }
 ],
 "metadata": {
  "kernelspec": {
   "display_name": "mlenv",
   "language": "python",
   "name": "mlenv"
  },
  "language_info": {
   "codemirror_mode": {
    "name": "ipython",
    "version": 3
   },
   "file_extension": ".py",
   "mimetype": "text/x-python",
   "name": "python",
   "nbconvert_exporter": "python",
   "pygments_lexer": "ipython3",
   "version": "3.7.13"
  }
 },
 "nbformat": 4,
 "nbformat_minor": 5
}
