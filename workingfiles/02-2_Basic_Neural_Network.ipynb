{
 "cells": [
  {
   "cell_type": "code",
   "execution_count": 1,
   "id": "70f486bd",
   "metadata": {},
   "outputs": [
    {
     "name": "stdout",
     "output_type": "stream",
     "text": [
      "WARNING:tensorflow:Please fix your imports. Module tensorflow.python.training.tracking.base has been moved to tensorflow.python.trackable.base. The old module will be deleted in version 2.11.\n",
      "WARNING:tensorflow:Please fix your imports. Module tensorflow.python.training.checkpoint_management has been moved to tensorflow.python.checkpoint.checkpoint_management. The old module will be deleted in version 2.9.\n",
      "WARNING:tensorflow:Please fix your imports. Module tensorflow.python.training.tracking.resource has been moved to tensorflow.python.trackable.resource. The old module will be deleted in version 2.11.\n",
      "WARNING:tensorflow:Please fix your imports. Module tensorflow.python.training.tracking.util has been moved to tensorflow.python.checkpoint.checkpoint. The old module will be deleted in version 2.11.\n",
      "WARNING:tensorflow:Please fix your imports. Module tensorflow.python.training.tracking.base_delegate has been moved to tensorflow.python.trackable.base_delegate. The old module will be deleted in version 2.11.\n",
      "WARNING:tensorflow:Please fix your imports. Module tensorflow.python.training.tracking.graph_view has been moved to tensorflow.python.checkpoint.graph_view. The old module will be deleted in version 2.11.\n",
      "WARNING:tensorflow:Please fix your imports. Module tensorflow.python.training.tracking.python_state has been moved to tensorflow.python.trackable.python_state. The old module will be deleted in version 2.11.\n",
      "WARNING:tensorflow:Please fix your imports. Module tensorflow.python.training.saving.functional_saver has been moved to tensorflow.python.checkpoint.functional_saver. The old module will be deleted in version 2.11.\n",
      "WARNING:tensorflow:Please fix your imports. Module tensorflow.python.training.saving.checkpoint_options has been moved to tensorflow.python.checkpoint.checkpoint_options. The old module will be deleted in version 2.11.\n"
     ]
    }
   ],
   "source": [
    "# Import our dependencies\n",
    "import pandas as pd\n",
    "import matplotlib as plt\n",
    "from sklearn.datasets import make_blobs\n",
    "import sklearn as skl\n",
    "import tensorflow as tf"
   ]
  },
  {
   "cell_type": "code",
   "execution_count": 2,
   "id": "fa611c6f",
   "metadata": {},
   "outputs": [
    {
     "data": {
      "text/plain": [
       "<AxesSubplot:xlabel='Feature 1', ylabel='Feature 2'>"
      ]
     },
     "execution_count": 2,
     "metadata": {},
     "output_type": "execute_result"
    },
    {
     "data": {
      "image/png": "[encoded data removed]",
      "text/plain": [
       "<Figure size 432x288 with 2 Axes>"
      ]
     },
     "metadata": {
      "needs_background": "light"
     },
     "output_type": "display_data"
    }
   ],
   "source": [
    "# Generate dummy dataset\n",
    "X, y = make_blobs(n_samples=1000, centers=2, n_features=2, random_state=78)\n",
    "\n",
    "# Creating a DataFrame with the dummy data\n",
    "df = pd.DataFrame(X, columns=[\"Feature 1\", \"Feature 2\"])\n",
    "df[\"Target\"] = y\n",
    "\n",
    "# Plotting the dummy data\n",
    "df.plot.scatter(x=\"Feature 1\", y=\"Feature 2\", c=\"Target\", colormap=\"winter\")"
   ]
  },
  {
   "cell_type": "code",
   "execution_count": 3,
   "id": "8e4b1c15",
   "metadata": {},
   "outputs": [],
   "source": [
    "# Use sklearn to split dataset\n",
    "from sklearn.model_selection import train_test_split\n",
    "X_train, X_test, y_train, y_test = train_test_split(X, y, random_state=78)"
   ]
  },
  {
   "cell_type": "code",
   "execution_count": 4,
   "id": "7fd7431b",
   "metadata": {},
   "outputs": [],
   "source": [
    "# Create scaler instance\n",
    "X_scaler = skl.preprocessing.StandardScaler()\n",
    "\n",
    "# Fit the scaler\n",
    "X_scaler.fit(X_train)\n",
    "\n",
    "# Scale the data\n",
    "X_train_scaled = X_scaler.transform(X_train)\n",
    "X_test_scaled = X_scaler.transform(X_test)"
   ]
  },
  {
   "cell_type": "code",
   "execution_count": 11,
   "id": "1d403285",
   "metadata": {},
   "outputs": [],
   "source": [
    "# Create the Keras Sequential model\n",
    "nn_model = tf.keras.models.Sequential()"
   ]
  },
  {
   "cell_type": "code",
   "execution_count": 12,
   "id": "2f41e735",
   "metadata": {},
   "outputs": [],
   "source": [
    "# Add our first Dense layer, including the input layer\n",
    "nn_model.add(tf.keras.layers.Dense(units=1, activation=\"relu\", input_dim=2))"
   ]
  },
  {
   "cell_type": "code",
   "execution_count": 13,
   "id": "e3a850c4",
   "metadata": {},
   "outputs": [],
   "source": [
    "# Add the output layer that uses a probability activation function\n",
    "nn_model.add(tf.keras.layers.Dense(units=1, activation=\"sigmoid\"))"
   ]
  },
  {
   "cell_type": "code",
   "execution_count": 14,
   "id": "eea629a6",
   "metadata": {},
   "outputs": [
    {
     "name": "stdout",
     "output_type": "stream",
     "text": [
      "Model: \"sequential_1\"\n",
      "_________________________________________________________________\n",
      " Layer (type)                Output Shape              Param #   \n",
      "=================================================================\n",
      " dense_3 (Dense)             (None, 1)                 3         \n",
      "                                                                 \n",
      " dense_4 (Dense)             (None, 1)                 2         \n",
      "                                                                 \n",
      "=================================================================\n",
      "Total params: 5\n",
      "Trainable params: 5\n",
      "Non-trainable params: 0\n",
      "_________________________________________________________________\n"
     ]
    }
   ],
   "source": [
    "# Check the structure of the Sequential model\n",
    "nn_model.summary()"
   ]
  },
  {
   "cell_type": "code",
   "execution_count": 15,
   "id": "d32d6c1b",
   "metadata": {},
   "outputs": [],
   "source": [
    "# Compile the Sequential model together and customize metrics\n",
    "nn_model.compile(loss=\"binary_crossentropy\", optimizer=\"adam\", metrics=[\"accuracy\"])"
   ]
  },
  {
   "cell_type": "code",
   "execution_count": 16,
   "id": "af30c4c0",
   "metadata": {},
   "outputs": [
    {
     "name": "stdout",
     "output_type": "stream",
     "text": [
      "Epoch 1/100\n",
      "24/24 [==============================] - 2s 698us/step - loss: 0.6460 - accuracy: 0.9413\n",
      "Epoch 2/100\n",
      "24/24 [==============================] - 0s 696us/step - loss: 0.6372 - accuracy: 0.9427\n",
      "Epoch 3/100\n",
      "24/24 [==============================] - 0s 696us/step - loss: 0.6277 - accuracy: 0.9440\n",
      "Epoch 4/100\n",
      "24/24 [==============================] - 0s 695us/step - loss: 0.6176 - accuracy: 0.9440\n",
      "Epoch 5/100\n",
      "24/24 [==============================] - 0s 609us/step - loss: 0.6069 - accuracy: 0.9467\n",
      "Epoch 6/100\n",
      "24/24 [==============================] - 0s 609us/step - loss: 0.5956 - accuracy: 0.9493\n",
      "Epoch 7/100\n",
      "24/24 [==============================] - 0s 588us/step - loss: 0.5839 - accuracy: 0.9507\n",
      "Epoch 8/100\n",
      "24/24 [==============================] - 0s 565us/step - loss: 0.5717 - accuracy: 0.9520\n",
      "Epoch 9/100\n",
      "24/24 [==============================] - 0s 565us/step - loss: 0.5592 - accuracy: 0.9520\n",
      "Epoch 10/100\n",
      "24/24 [==============================] - 0s 616us/step - loss: 0.5465 - accuracy: 0.9533\n",
      "Epoch 11/100\n",
      "24/24 [==============================] - 0s 609us/step - loss: 0.5337 - accuracy: 0.9547\n",
      "Epoch 12/100\n",
      "24/24 [==============================] - 0s 609us/step - loss: 0.5209 - accuracy: 0.9560\n",
      "Epoch 13/100\n",
      "24/24 [==============================] - 0s 565us/step - loss: 0.5079 - accuracy: 0.9587\n",
      "Epoch 14/100\n",
      "24/24 [==============================] - 0s 609us/step - loss: 0.4951 - accuracy: 0.9600\n",
      "Epoch 15/100\n",
      "24/24 [==============================] - 0s 609us/step - loss: 0.4823 - accuracy: 0.9613\n",
      "Epoch 16/100\n",
      "24/24 [==============================] - 0s 660us/step - loss: 0.4698 - accuracy: 0.9640\n",
      "Epoch 17/100\n",
      "24/24 [==============================] - 0s 609us/step - loss: 0.4574 - accuracy: 0.9640\n",
      "Epoch 18/100\n",
      "24/24 [==============================] - 0s 609us/step - loss: 0.4454 - accuracy: 0.9667\n",
      "Epoch 19/100\n",
      "24/24 [==============================] - 0s 609us/step - loss: 0.4337 - accuracy: 0.9680\n",
      "Epoch 20/100\n",
      "24/24 [==============================] - 0s 565us/step - loss: 0.4221 - accuracy: 0.9707\n",
      "Epoch 21/100\n",
      "24/24 [==============================] - 0s 565us/step - loss: 0.4109 - accuracy: 0.9720\n",
      "Epoch 22/100\n",
      "24/24 [==============================] - 0s 609us/step - loss: 0.4001 - accuracy: 0.9733\n",
      "Epoch 23/100\n",
      "24/24 [==============================] - 0s 522us/step - loss: 0.3897 - accuracy: 0.9733\n",
      "Epoch 24/100\n",
      "24/24 [==============================] - 0s 565us/step - loss: 0.3794 - accuracy: 0.9747\n",
      "Epoch 25/100\n",
      "24/24 [==============================] - 0s 609us/step - loss: 0.3696 - accuracy: 0.9760\n",
      "Epoch 26/100\n",
      "24/24 [==============================] - 0s 588us/step - loss: 0.3601 - accuracy: 0.9773\n",
      "Epoch 27/100\n",
      "24/24 [==============================] - 0s 565us/step - loss: 0.3509 - accuracy: 0.9773\n",
      "Epoch 28/100\n",
      "24/24 [==============================] - 0s 565us/step - loss: 0.3420 - accuracy: 0.9813\n",
      "Epoch 29/100\n",
      "24/24 [==============================] - 0s 565us/step - loss: 0.3334 - accuracy: 0.9813\n",
      "Epoch 30/100\n",
      "24/24 [==============================] - 0s 608us/step - loss: 0.3251 - accuracy: 0.9813\n",
      "Epoch 31/100\n",
      "24/24 [==============================] - 0s 565us/step - loss: 0.3170 - accuracy: 0.9813\n",
      "Epoch 32/100\n",
      "24/24 [==============================] - 0s 609us/step - loss: 0.3092 - accuracy: 0.9853\n",
      "Epoch 33/100\n",
      "24/24 [==============================] - 0s 609us/step - loss: 0.3016 - accuracy: 0.9853\n",
      "Epoch 34/100\n",
      "24/24 [==============================] - 0s 565us/step - loss: 0.2943 - accuracy: 0.9853\n",
      "Epoch 35/100\n",
      "24/24 [==============================] - 0s 609us/step - loss: 0.2871 - accuracy: 0.9853\n",
      "Epoch 36/100\n",
      "24/24 [==============================] - 0s 565us/step - loss: 0.2803 - accuracy: 0.9853\n",
      "Epoch 37/100\n",
      "24/24 [==============================] - 0s 609us/step - loss: 0.2736 - accuracy: 0.9853\n",
      "Epoch 38/100\n",
      "24/24 [==============================] - 0s 565us/step - loss: 0.2672 - accuracy: 0.9853\n",
      "Epoch 39/100\n",
      "24/24 [==============================] - 0s 565us/step - loss: 0.2609 - accuracy: 0.9853\n",
      "Epoch 40/100\n",
      "24/24 [==============================] - 0s 565us/step - loss: 0.2549 - accuracy: 0.9867\n",
      "Epoch 41/100\n",
      "24/24 [==============================] - 0s 609us/step - loss: 0.2490 - accuracy: 0.9880\n",
      "Epoch 42/100\n",
      "24/24 [==============================] - 0s 608us/step - loss: 0.2432 - accuracy: 0.9880\n",
      "Epoch 43/100\n",
      "24/24 [==============================] - 0s 565us/step - loss: 0.2377 - accuracy: 0.9880\n",
      "Epoch 44/100\n",
      "24/24 [==============================] - 0s 565us/step - loss: 0.2323 - accuracy: 0.9880\n",
      "Epoch 45/100\n",
      "24/24 [==============================] - 0s 565us/step - loss: 0.2271 - accuracy: 0.9880\n",
      "Epoch 46/100\n",
      "24/24 [==============================] - 0s 565us/step - loss: 0.2220 - accuracy: 0.9893\n",
      "Epoch 47/100\n",
      "24/24 [==============================] - 0s 565us/step - loss: 0.2170 - accuracy: 0.9907\n",
      "Epoch 48/100\n",
      "24/24 [==============================] - 0s 565us/step - loss: 0.2122 - accuracy: 0.9920\n",
      "Epoch 49/100\n",
      "24/24 [==============================] - 0s 565us/step - loss: 0.2076 - accuracy: 0.9920\n",
      "Epoch 50/100\n",
      "24/24 [==============================] - 0s 609us/step - loss: 0.2031 - accuracy: 0.9920\n",
      "Epoch 51/100\n",
      "24/24 [==============================] - 0s 565us/step - loss: 0.1986 - accuracy: 0.9920\n",
      "Epoch 52/100\n",
      "24/24 [==============================] - 0s 565us/step - loss: 0.1943 - accuracy: 0.9920\n",
      "Epoch 53/100\n",
      "24/24 [==============================] - 0s 565us/step - loss: 0.1902 - accuracy: 0.9920\n",
      "Epoch 54/100\n",
      "24/24 [==============================] - 0s 609us/step - loss: 0.1861 - accuracy: 0.9920\n",
      "Epoch 55/100\n",
      "24/24 [==============================] - 0s 609us/step - loss: 0.1822 - accuracy: 0.9920\n",
      "Epoch 56/100\n",
      "24/24 [==============================] - 0s 565us/step - loss: 0.1783 - accuracy: 0.9920\n",
      "Epoch 57/100\n",
      "24/24 [==============================] - 0s 609us/step - loss: 0.1745 - accuracy: 0.9920\n",
      "Epoch 58/100\n",
      "24/24 [==============================] - 0s 609us/step - loss: 0.1709 - accuracy: 0.9920\n",
      "Epoch 59/100\n",
      "24/24 [==============================] - 0s 565us/step - loss: 0.1674 - accuracy: 0.9920\n",
      "Epoch 60/100\n",
      "24/24 [==============================] - 0s 597us/step - loss: 0.1639 - accuracy: 0.9920\n",
      "Epoch 61/100\n",
      "24/24 [==============================] - 0s 609us/step - loss: 0.1606 - accuracy: 0.9933\n",
      "Epoch 62/100\n",
      "24/24 [==============================] - 0s 609us/step - loss: 0.1573 - accuracy: 0.9933\n",
      "Epoch 63/100\n",
      "24/24 [==============================] - 0s 565us/step - loss: 0.1541 - accuracy: 0.9933\n",
      "Epoch 64/100\n",
      "24/24 [==============================] - 0s 570us/step - loss: 0.1510 - accuracy: 0.9933\n",
      "Epoch 65/100\n",
      "24/24 [==============================] - 0s 565us/step - loss: 0.1480 - accuracy: 0.9933\n",
      "Epoch 66/100\n",
      "24/24 [==============================] - 0s 565us/step - loss: 0.1451 - accuracy: 0.9947\n",
      "Epoch 67/100\n",
      "24/24 [==============================] - 0s 609us/step - loss: 0.1422 - accuracy: 0.9947\n",
      "Epoch 68/100\n",
      "24/24 [==============================] - 0s 695us/step - loss: 0.1394 - accuracy: 0.9973\n",
      "Epoch 69/100\n",
      "24/24 [==============================] - 0s 609us/step - loss: 0.1367 - accuracy: 0.9973\n",
      "Epoch 70/100\n",
      "24/24 [==============================] - 0s 628us/step - loss: 0.1340 - accuracy: 0.9987\n",
      "Epoch 71/100\n",
      "24/24 [==============================] - 0s 609us/step - loss: 0.1315 - accuracy: 0.9987\n",
      "Epoch 72/100\n",
      "24/24 [==============================] - 0s 609us/step - loss: 0.1289 - accuracy: 1.0000\n",
      "Epoch 73/100\n",
      "24/24 [==============================] - 0s 609us/step - loss: 0.1265 - accuracy: 1.0000\n",
      "Epoch 74/100\n",
      "24/24 [==============================] - 0s 565us/step - loss: 0.1241 - accuracy: 1.0000\n",
      "Epoch 75/100\n",
      "24/24 [==============================] - 0s 609us/step - loss: 0.1217 - accuracy: 1.0000\n",
      "Epoch 76/100\n",
      "24/24 [==============================] - 0s 522us/step - loss: 0.1194 - accuracy: 1.0000\n",
      "Epoch 77/100\n",
      "24/24 [==============================] - 0s 565us/step - loss: 0.1172 - accuracy: 1.0000\n",
      "Epoch 78/100\n",
      "24/24 [==============================] - 0s 565us/step - loss: 0.1150 - accuracy: 1.0000\n",
      "Epoch 79/100\n",
      "24/24 [==============================] - 0s 565us/step - loss: 0.1129 - accuracy: 1.0000\n",
      "Epoch 80/100\n",
      "24/24 [==============================] - 0s 565us/step - loss: 0.1109 - accuracy: 1.0000\n",
      "Epoch 81/100\n"
     ]
    },
    {
     "name": "stdout",
     "output_type": "stream",
     "text": [
      "24/24 [==============================] - 0s 565us/step - loss: 0.1089 - accuracy: 1.0000\n",
      "Epoch 82/100\n",
      "24/24 [==============================] - 0s 690us/step - loss: 0.1069 - accuracy: 1.0000\n",
      "Epoch 83/100\n",
      "24/24 [==============================] - 0s 565us/step - loss: 0.1050 - accuracy: 1.0000\n",
      "Epoch 84/100\n",
      "24/24 [==============================] - 0s 608us/step - loss: 0.1031 - accuracy: 1.0000\n",
      "Epoch 85/100\n",
      "24/24 [==============================] - 0s 609us/step - loss: 0.1013 - accuracy: 1.0000\n",
      "Epoch 86/100\n",
      "24/24 [==============================] - 0s 609us/step - loss: 0.0995 - accuracy: 1.0000\n",
      "Epoch 87/100\n",
      "24/24 [==============================] - 0s 609us/step - loss: 0.0978 - accuracy: 1.0000\n",
      "Epoch 88/100\n",
      "24/24 [==============================] - 0s 567us/step - loss: 0.0960 - accuracy: 1.0000\n",
      "Epoch 89/100\n",
      "24/24 [==============================] - 0s 522us/step - loss: 0.0944 - accuracy: 1.0000\n",
      "Epoch 90/100\n",
      "24/24 [==============================] - 0s 608us/step - loss: 0.0928 - accuracy: 1.0000\n",
      "Epoch 91/100\n",
      "24/24 [==============================] - 0s 565us/step - loss: 0.0912 - accuracy: 1.0000\n",
      "Epoch 92/100\n",
      "24/24 [==============================] - 0s 565us/step - loss: 0.0896 - accuracy: 1.0000\n",
      "Epoch 93/100\n",
      "24/24 [==============================] - 0s 565us/step - loss: 0.0881 - accuracy: 1.0000\n",
      "Epoch 94/100\n",
      "24/24 [==============================] - 0s 585us/step - loss: 0.0866 - accuracy: 1.0000\n",
      "Epoch 95/100\n",
      "24/24 [==============================] - 0s 609us/step - loss: 0.0852 - accuracy: 1.0000\n",
      "Epoch 96/100\n",
      "24/24 [==============================] - 0s 565us/step - loss: 0.0838 - accuracy: 1.0000\n",
      "Epoch 97/100\n",
      "24/24 [==============================] - 0s 609us/step - loss: 0.0824 - accuracy: 1.0000\n",
      "Epoch 98/100\n",
      "24/24 [==============================] - 0s 565us/step - loss: 0.0810 - accuracy: 1.0000\n",
      "Epoch 99/100\n",
      "24/24 [==============================] - 0s 565us/step - loss: 0.0797 - accuracy: 1.0000\n",
      "Epoch 100/100\n",
      "24/24 [==============================] - 0s 565us/step - loss: 0.0784 - accuracy: 1.0000\n"
     ]
    }
   ],
   "source": [
    "# Fit the model to the training data\n",
    "fit_model = nn_model.fit(X_train_scaled, y_train, epochs=100)"
   ]
  },
  {
   "cell_type": "code",
   "execution_count": 17,
   "id": "7b41dc1f",
   "metadata": {},
   "outputs": [
    {
     "data": {
      "text/plain": [
       "<AxesSubplot:>"
      ]
     },
     "execution_count": 17,
     "metadata": {},
     "output_type": "execute_result"
    },
    {
     "data": {
      "image/png": "[encoded data removed]",
      "text/plain": [
       "<Figure size 432x288 with 1 Axes>"
      ]
     },
     "metadata": {
      "needs_background": "light"
     },
     "output_type": "display_data"
    }
   ],
   "source": [
    "# Create a DataFrame containing training history\n",
    "history_df = pd.DataFrame(fit_model.history, index=range(1,len(fit_model.history[\"loss\"])+1))\n",
    "\n",
    "# Plot the loss\n",
    "history_df.plot(y=\"loss\")"
   ]
  },
  {
   "cell_type": "code",
   "execution_count": 18,
   "id": "32146fbd",
   "metadata": {},
   "outputs": [
    {
     "data": {
      "text/plain": [
       "<AxesSubplot:>"
      ]
     },
     "execution_count": 18,
     "metadata": {},
     "output_type": "execute_result"
    },
    {
     "data": {
      "image/png": "[encoded data removed]",
      "text/plain": [
       "<Figure size 432x288 with 1 Axes>"
      ]
     },
     "metadata": {
      "needs_background": "light"
     },
     "output_type": "display_data"
    }
   ],
   "source": [
    "# Plot the accuracy\n",
    "history_df.plot(y=\"accuracy\")"
   ]
  },
  {
   "cell_type": "code",
   "execution_count": 19,
   "id": "a3c96e86",
   "metadata": {},
   "outputs": [
    {
     "name": "stdout",
     "output_type": "stream",
     "text": [
      "8/8 - 2s - loss: 0.0726 - accuracy: 1.0000 - 2s/epoch - 239ms/step\n",
      "Loss: 0.07258989661931992, Accuracy: 1.0\n"
     ]
    }
   ],
   "source": [
    "# Evaluate the model using the test data\n",
    "model_loss, model_accuracy = nn_model.evaluate(X_test_scaled,y_test,verbose=2)\n",
    "print(f\"Loss: {model_loss}, Accuracy: {model_accuracy}\")"
   ]
  },
  {
   "cell_type": "code",
   "execution_count": 20,
   "id": "24e06719",
   "metadata": {},
   "outputs": [
    {
     "name": "stdout",
     "output_type": "stream",
     "text": [
      "1/1 [==============================] - 0s 91ms/step\n"
     ]
    },
    {
     "data": {
      "text/plain": [
       "array([[0],\n",
       "       [1],\n",
       "       [0],\n",
       "       [1],\n",
       "       [0],\n",
       "       [0],\n",
       "       [1],\n",
       "       [1],\n",
       "       [1],\n",
       "       [0]])"
      ]
     },
     "execution_count": 20,
     "metadata": {},
     "output_type": "execute_result"
    }
   ],
   "source": [
    "# Predict the classification of a new set of blob data\n",
    "new_X, new_Y = make_blobs(n_samples=10, centers=2, n_features=2, random_state=78)\n",
    "new_X_scaled = X_scaler.transform(new_X)\n",
    "(nn_model.predict(new_X_scaled) > 0.5).astype(\"int32\")"
   ]
  },
  {
   "cell_type": "code",
   "execution_count": null,
   "id": "7d1d07c6",
   "metadata": {},
   "outputs": [],
   "source": []
  }
 ],
 "metadata": {
  "kernelspec": {
   "display_name": "mlenv",
   "language": "python",
   "name": "mlenv"
  },
  "language_info": {
   "codemirror_mode": {
    "name": "ipython",
    "version": 3
   },
   "file_extension": ".py",
   "mimetype": "text/x-python",
   "name": "python",
   "nbconvert_exporter": "python",
   "pygments_lexer": "ipython3",
   "version": "3.7.13"
  }
 },
 "nbformat": 4,
 "nbformat_minor": 5
}
